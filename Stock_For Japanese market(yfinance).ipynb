{
 "cells": [
  {
   "cell_type": "code",
   "execution_count": 2,
   "id": "7c26feb8-2857-49ad-b961-f2d30f4a28b9",
   "metadata": {},
   "outputs": [
    {
     "name": "stdout",
     "output_type": "stream",
     "text": [
      "Requirement already satisfied: yfinance in c:\\users\\admin\\appdata\\local\\programs\\python\\python313\\lib\\site-packages (0.2.55)\n",
      "Requirement already satisfied: pandas>=1.3.0 in c:\\users\\admin\\appdata\\local\\programs\\python\\python313\\lib\\site-packages (from yfinance) (2.2.3)\n",
      "Requirement already satisfied: numpy>=1.16.5 in c:\\users\\admin\\appdata\\local\\programs\\python\\python313\\lib\\site-packages (from yfinance) (2.2.4)\n",
      "Requirement already satisfied: requests>=2.31 in c:\\users\\admin\\appdata\\local\\programs\\python\\python313\\lib\\site-packages (from yfinance) (2.32.3)\n",
      "Requirement already satisfied: multitasking>=0.0.7 in c:\\users\\admin\\appdata\\local\\programs\\python\\python313\\lib\\site-packages (from yfinance) (0.0.11)\n",
      "Requirement already satisfied: platformdirs>=2.0.0 in c:\\users\\admin\\appdata\\local\\programs\\python\\python313\\lib\\site-packages (from yfinance) (4.3.7)\n",
      "Requirement already satisfied: pytz>=2022.5 in c:\\users\\admin\\appdata\\local\\programs\\python\\python313\\lib\\site-packages (from yfinance) (2025.2)\n",
      "Requirement already satisfied: frozendict>=2.3.4 in c:\\users\\admin\\appdata\\local\\programs\\python\\python313\\lib\\site-packages (from yfinance) (2.4.6)\n",
      "Requirement already satisfied: peewee>=3.16.2 in c:\\users\\admin\\appdata\\local\\programs\\python\\python313\\lib\\site-packages (from yfinance) (3.17.9)\n",
      "Requirement already satisfied: beautifulsoup4>=4.11.1 in c:\\users\\admin\\appdata\\local\\programs\\python\\python313\\lib\\site-packages (from yfinance) (4.13.3)\n",
      "Requirement already satisfied: soupsieve>1.2 in c:\\users\\admin\\appdata\\local\\programs\\python\\python313\\lib\\site-packages (from beautifulsoup4>=4.11.1->yfinance) (2.6)\n",
      "Requirement already satisfied: typing-extensions>=4.0.0 in c:\\users\\admin\\appdata\\local\\programs\\python\\python313\\lib\\site-packages (from beautifulsoup4>=4.11.1->yfinance) (4.13.2)\n",
      "Requirement already satisfied: python-dateutil>=2.8.2 in c:\\users\\admin\\appdata\\local\\programs\\python\\python313\\lib\\site-packages (from pandas>=1.3.0->yfinance) (2.9.0.post0)\n",
      "Requirement already satisfied: tzdata>=2022.7 in c:\\users\\admin\\appdata\\local\\programs\\python\\python313\\lib\\site-packages (from pandas>=1.3.0->yfinance) (2025.2)\n",
      "Requirement already satisfied: six>=1.5 in c:\\users\\admin\\appdata\\local\\programs\\python\\python313\\lib\\site-packages (from python-dateutil>=2.8.2->pandas>=1.3.0->yfinance) (1.17.0)\n",
      "Requirement already satisfied: charset-normalizer<4,>=2 in c:\\users\\admin\\appdata\\local\\programs\\python\\python313\\lib\\site-packages (from requests>=2.31->yfinance) (3.4.1)\n",
      "Requirement already satisfied: idna<4,>=2.5 in c:\\users\\admin\\appdata\\local\\programs\\python\\python313\\lib\\site-packages (from requests>=2.31->yfinance) (3.10)\n",
      "Requirement already satisfied: urllib3<3,>=1.21.1 in c:\\users\\admin\\appdata\\local\\programs\\python\\python313\\lib\\site-packages (from requests>=2.31->yfinance) (2.4.0)\n",
      "Requirement already satisfied: certifi>=2017.4.17 in c:\\users\\admin\\appdata\\local\\programs\\python\\python313\\lib\\site-packages (from requests>=2.31->yfinance) (2025.1.31)\n"
     ]
    }
   ],
   "source": [
    "!pip install yfinance"
   ]
  },
  {
   "cell_type": "markdown",
   "id": "e51a78a7-594a-4447-880a-db021d06891a",
   "metadata": {},
   "source": [
    "## Input the Target code and Time period, use the following code the get each stock's information (Including open, high, low, close and volumn)"
   ]
  },
  {
   "cell_type": "code",
   "execution_count": 5,
   "id": "13f7594d-648d-4337-bb28-08e43abb2759",
   "metadata": {},
   "outputs": [
    {
     "name": "stdout",
     "output_type": "stream",
     "text": [
      "⏭️ 已跳过（非4位数字）：\n",
      "  - 146A: コロンビア・ワークス\n",
      "  - 391A: 山忠\n",
      "\n",
      "==============================\n",
      "▶︎ 抓取 8927 — 明豊エンタープライズ\n",
      "  • Yahoo 抓取 8927.T（尝试 1/7）\n"
     ]
    },
    {
     "name": "stderr",
     "output_type": "stream",
     "text": [
      "\n",
      "1 Failed download:\n",
      "['8927.T']: YFRateLimitError('Too Many Requests. Rate limited. Try after a while.')\n"
     ]
    },
    {
     "name": "stdout",
     "output_type": "stream",
     "text": [
      "    ❌ 非限流错误：empty dataframe\n",
      "  • Stooq 兜底 8927.jp\n",
      "✅ [8927] 明豊エンタープライズ -> 已保存单只数据：data\\8927_stooq_2015-10-01_to_2025-10-01.csv（2,442 行）\n",
      "⏳ 等待 16.0s 再抓下一只…\n",
      "\n",
      "==============================\n",
      "▶︎ 抓取 8869 — 明和地所\n",
      "  • Yahoo 抓取 8869.T（尝试 1/7）\n"
     ]
    },
    {
     "name": "stderr",
     "output_type": "stream",
     "text": [
      "\n",
      "1 Failed download:\n",
      "['8869.T']: YFRateLimitError('Too Many Requests. Rate limited. Try after a while.')\n"
     ]
    },
    {
     "name": "stdout",
     "output_type": "stream",
     "text": [
      "    ❌ 非限流错误：empty dataframe\n",
      "  • Stooq 兜底 8869.jp\n",
      "✅ [8869] 明和地所 -> 已保存单只数据：data\\8869_stooq_2015-10-01_to_2025-10-01.csv（2,442 行）\n",
      "⏳ 等待 19.7s 再抓下一只…\n",
      "\n",
      "==============================\n",
      "▶︎ 抓取 8871 — ゴールドクレスト\n",
      "  • Yahoo 抓取 8871.T（尝试 1/7）\n"
     ]
    },
    {
     "name": "stderr",
     "output_type": "stream",
     "text": [
      "\n",
      "1 Failed download:\n",
      "['8871.T']: YFRateLimitError('Too Many Requests. Rate limited. Try after a while.')\n"
     ]
    },
    {
     "name": "stdout",
     "output_type": "stream",
     "text": [
      "    ❌ 非限流错误：empty dataframe\n",
      "  • Stooq 兜底 8871.jp\n",
      "✅ [8871] ゴールドクレスト -> 已保存单只数据：data\\8871_stooq_2015-10-01_to_2025-10-01.csv（2,442 行）\n",
      "⏳ 等待 14.2s 再抓下一只…\n",
      "\n",
      "==============================\n",
      "▶︎ 抓取 8877 — エスリード\n",
      "  • Yahoo 抓取 8877.T（尝试 1/7）\n"
     ]
    },
    {
     "name": "stderr",
     "output_type": "stream",
     "text": [
      "\n",
      "1 Failed download:\n",
      "['8877.T']: YFRateLimitError('Too Many Requests. Rate limited. Try after a while.')\n"
     ]
    },
    {
     "name": "stdout",
     "output_type": "stream",
     "text": [
      "    ❌ 非限流错误：empty dataframe\n",
      "  • Stooq 兜底 8877.jp\n",
      "✅ [8877] エスリード -> 已保存单只数据：data\\8877_stooq_2015-10-01_to_2025-10-01.csv（2,442 行）\n",
      "⏳ 等待 16.8s 再抓下一只…\n",
      "\n",
      "==============================\n",
      "▶︎ 抓取 3489 — フェイスネットワーク\n",
      "  • Yahoo 抓取 3489.T（尝试 1/7）\n"
     ]
    },
    {
     "name": "stderr",
     "output_type": "stream",
     "text": [
      "\n",
      "1 Failed download:\n",
      "['3489.T']: YFRateLimitError('Too Many Requests. Rate limited. Try after a while.')\n"
     ]
    },
    {
     "name": "stdout",
     "output_type": "stream",
     "text": [
      "    ❌ 非限流错误：empty dataframe\n",
      "  • Stooq 兜底 3489.jp\n",
      "✅ [3489] フェイスネットワーク -> 已保存单只数据：data\\3489_stooq_2015-10-01_to_2025-10-01.csv（1,841 行）\n",
      "⏳ 等待 20.0s 再抓下一只…\n",
      "\n",
      "==============================\n",
      "▶︎ 抓取 3236 — プロパスト\n",
      "  • Yahoo 抓取 3236.T（尝试 1/7）\n"
     ]
    },
    {
     "name": "stderr",
     "output_type": "stream",
     "text": [
      "\n",
      "1 Failed download:\n",
      "['3236.T']: YFRateLimitError('Too Many Requests. Rate limited. Try after a while.')\n"
     ]
    },
    {
     "name": "stdout",
     "output_type": "stream",
     "text": [
      "    ❌ 非限流错误：empty dataframe\n",
      "  • Stooq 兜底 3236.jp\n",
      "✅ [3236] プロパスト -> 已保存单只数据：data\\3236_stooq_2015-10-01_to_2025-10-01.csv（2,442 行）\n",
      "⏳ 等待 17.4s 再抓下一只…\n",
      "\n",
      "==============================\n",
      "▶︎ 抓取 3242 — アーバネットコーポレーション\n",
      "  • Yahoo 抓取 3242.T（尝试 1/7）\n"
     ]
    },
    {
     "name": "stderr",
     "output_type": "stream",
     "text": [
      "\n",
      "1 Failed download:\n",
      "['3242.T']: YFRateLimitError('Too Many Requests. Rate limited. Try after a while.')\n"
     ]
    },
    {
     "name": "stdout",
     "output_type": "stream",
     "text": [
      "    ❌ 非限流错误：empty dataframe\n",
      "  • Stooq 兜底 3242.jp\n",
      "✅ [3242] アーバネットコーポレーション -> 已保存单只数据：data\\3242_stooq_2015-10-01_to_2025-10-01.csv（2,442 行）\n",
      "⏳ 等待 19.4s 再抓下一只…\n",
      "\n",
      "==============================\n",
      "▶︎ 抓取 3238 — セントラル総合開発\n",
      "  • Yahoo 抓取 3238.T（尝试 1/7）\n"
     ]
    },
    {
     "name": "stderr",
     "output_type": "stream",
     "text": [
      "\n",
      "1 Failed download:\n",
      "['3238.T']: YFRateLimitError('Too Many Requests. Rate limited. Try after a while.')\n"
     ]
    },
    {
     "name": "stdout",
     "output_type": "stream",
     "text": [
      "    ❌ 非限流错误：empty dataframe\n",
      "  • Stooq 兜底 3238.jp\n",
      "✅ [3238] セントラル総合開発 -> 已保存单只数据：data\\3238_stooq_2015-10-01_to_2025-10-01.csv（2,441 行）\n",
      "⏳ 等待 14.7s 再抓下一只…\n",
      "\n",
      "==============================\n",
      "▶︎ 抓取 3245 — ディア・ライフ\n",
      "  • Yahoo 抓取 3245.T（尝试 1/7）\n"
     ]
    },
    {
     "name": "stderr",
     "output_type": "stream",
     "text": [
      "\n",
      "1 Failed download:\n",
      "['3245.T']: YFRateLimitError('Too Many Requests. Rate limited. Try after a while.')\n"
     ]
    },
    {
     "name": "stdout",
     "output_type": "stream",
     "text": [
      "    ❌ 非限流错误：empty dataframe\n",
      "  • Stooq 兜底 3245.jp\n",
      "✅ [3245] ディア・ライフ -> 已保存单只数据：data\\3245_stooq_2015-10-01_to_2025-10-01.csv（2,442 行）\n",
      "⏳ 等待 13.5s 再抓下一只…\n",
      "\n",
      "==============================\n",
      "▶︎ 抓取 3246 — コーセーアールイー\n",
      "  • Yahoo 抓取 3246.T（尝试 1/7）\n"
     ]
    },
    {
     "name": "stderr",
     "output_type": "stream",
     "text": [
      "\n",
      "1 Failed download:\n",
      "['3246.T']: YFRateLimitError('Too Many Requests. Rate limited. Try after a while.')\n"
     ]
    },
    {
     "name": "stdout",
     "output_type": "stream",
     "text": [
      "    ❌ 非限流错误：empty dataframe\n",
      "  • Stooq 兜底 3246.jp\n",
      "✅ [3246] コーセーアールイー -> 已保存单只数据：data\\3246_stooq_2015-10-01_to_2025-10-01.csv（2,442 行）\n",
      "⏳ 等待 16.0s 再抓下一只…\n",
      "\n",
      "==============================\n",
      "▶︎ 抓取 3486 — グローバル・リンク・マネジメント\n",
      "  • Yahoo 抓取 3486.T（尝试 1/7）\n"
     ]
    },
    {
     "name": "stderr",
     "output_type": "stream",
     "text": [
      "\n",
      "1 Failed download:\n",
      "['3486.T']: YFRateLimitError('Too Many Requests. Rate limited. Try after a while.')\n"
     ]
    },
    {
     "name": "stdout",
     "output_type": "stream",
     "text": [
      "    ❌ 非限流错误：empty dataframe\n",
      "  • Stooq 兜底 3486.jp\n",
      "✅ [3486] グローバル・リンク・マネジメント -> 已保存单只数据：data\\3486_stooq_2015-10-01_to_2025-10-01.csv（1,903 行）\n",
      "⏳ 等待 12.7s 再抓下一只…\n",
      "\n",
      "==============================\n",
      "▶︎ 抓取 3498 — 霞ヶ関キャピタル\n",
      "  • Yahoo 抓取 3498.T（尝试 1/7）\n"
     ]
    },
    {
     "name": "stderr",
     "output_type": "stream",
     "text": [
      "\n",
      "1 Failed download:\n",
      "['3498.T']: YFRateLimitError('Too Many Requests. Rate limited. Try after a while.')\n"
     ]
    },
    {
     "name": "stdout",
     "output_type": "stream",
     "text": [
      "    ❌ 非限流错误：empty dataframe\n",
      "  • Stooq 兜底 3498.jp\n",
      "✅ [3498] 霞ヶ関キャピタル -> 已保存单只数据：data\\3498_stooq_2015-10-01_to_2025-10-01.csv（1,667 行）\n",
      "⏳ 等待 17.8s 再抓下一只…\n",
      "\n",
      "==============================\n",
      "▶︎ 抓取 8844 — コスモスイニシア\n",
      "  • Yahoo 抓取 8844.T（尝试 1/7）\n"
     ]
    },
    {
     "name": "stderr",
     "output_type": "stream",
     "text": [
      "\n",
      "1 Failed download:\n",
      "['8844.T']: YFRateLimitError('Too Many Requests. Rate limited. Try after a while.')\n"
     ]
    },
    {
     "name": "stdout",
     "output_type": "stream",
     "text": [
      "    ❌ 非限流错误：empty dataframe\n",
      "  • Stooq 兜底 8844.jp\n",
      "✅ [8844] コスモスイニシア -> 已保存单只数据：data\\8844_stooq_2015-10-01_to_2025-10-01.csv（2,442 行）\n",
      "⏳ 等待 16.0s 再抓下一只…\n",
      "\n",
      "==============================\n",
      "▶︎ 抓取 8881 — 日神グループホールディングス\n",
      "  • Yahoo 抓取 8881.T（尝试 1/7）\n"
     ]
    },
    {
     "name": "stderr",
     "output_type": "stream",
     "text": [
      "\n",
      "1 Failed download:\n",
      "['8881.T']: YFRateLimitError('Too Many Requests. Rate limited. Try after a while.')\n"
     ]
    },
    {
     "name": "stdout",
     "output_type": "stream",
     "text": [
      "    ❌ 非限流错误：empty dataframe\n",
      "  • Stooq 兜底 8881.jp\n",
      "✅ [8881] 日神グループホールディングス -> 已保存单只数据：data\\8881_stooq_2015-10-01_to_2025-10-01.csv（2,442 行）\n",
      "⏳ 等待 16.2s 再抓下一只…\n",
      "\n",
      "==============================\n",
      "▶︎ 抓取 8887 — シーラホールディングス\n",
      "  • Yahoo 抓取 8887.T（尝试 1/7）\n"
     ]
    },
    {
     "name": "stderr",
     "output_type": "stream",
     "text": [
      "\n",
      "1 Failed download:\n",
      "['8887.T']: YFRateLimitError('Too Many Requests. Rate limited. Try after a while.')\n"
     ]
    },
    {
     "name": "stdout",
     "output_type": "stream",
     "text": [
      "    ❌ 非限流错误：empty dataframe\n",
      "  • Stooq 兜底 8887.jp\n",
      "✅ [8887] シーラホールディングス -> 已保存单只数据：data\\8887_stooq_2015-10-01_to_2025-10-01.csv（2,442 行）\n",
      "⏳ 等待 12.0s 再抓下一只…\n",
      "\n",
      "==============================\n",
      "▶︎ 抓取 8892 — 日本エスコン\n",
      "  • Yahoo 抓取 8892.T（尝试 1/7）\n"
     ]
    },
    {
     "name": "stderr",
     "output_type": "stream",
     "text": [
      "\n",
      "1 Failed download:\n",
      "['8892.T']: YFRateLimitError('Too Many Requests. Rate limited. Try after a while.')\n"
     ]
    },
    {
     "name": "stdout",
     "output_type": "stream",
     "text": [
      "    ❌ 非限流错误：empty dataframe\n",
      "  • Stooq 兜底 8892.jp\n",
      "✅ [8892] 日本エスコン -> 已保存单只数据：data\\8892_stooq_2015-10-01_to_2025-10-01.csv（2,442 行）\n",
      "⏳ 等待 15.0s 再抓下一只…\n"
     ]
    },
    {
     "name": "stderr",
     "output_type": "stream",
     "text": [
      "C:\\Users\\ADMIN\\AppData\\Local\\Temp\\ipykernel_16472\\3552996870.py:187: FutureWarning: The argument 'infer_datetime_format' is deprecated and will be removed in a future version. A strict version of it is now the default, see https://pandas.pydata.org/pdeps/0004-consistent-to-datetime-parsing.html. You can safely remove this argument.\n",
      "  frames.append(pd.read_csv(path, parse_dates=[\"Date\"], infer_datetime_format=True))\n",
      "C:\\Users\\ADMIN\\AppData\\Local\\Temp\\ipykernel_16472\\3552996870.py:187: FutureWarning: The argument 'infer_datetime_format' is deprecated and will be removed in a future version. A strict version of it is now the default, see https://pandas.pydata.org/pdeps/0004-consistent-to-datetime-parsing.html. You can safely remove this argument.\n",
      "  frames.append(pd.read_csv(path, parse_dates=[\"Date\"], infer_datetime_format=True))\n",
      "C:\\Users\\ADMIN\\AppData\\Local\\Temp\\ipykernel_16472\\3552996870.py:187: FutureWarning: The argument 'infer_datetime_format' is deprecated and will be removed in a future version. A strict version of it is now the default, see https://pandas.pydata.org/pdeps/0004-consistent-to-datetime-parsing.html. You can safely remove this argument.\n",
      "  frames.append(pd.read_csv(path, parse_dates=[\"Date\"], infer_datetime_format=True))\n",
      "C:\\Users\\ADMIN\\AppData\\Local\\Temp\\ipykernel_16472\\3552996870.py:187: FutureWarning: The argument 'infer_datetime_format' is deprecated and will be removed in a future version. A strict version of it is now the default, see https://pandas.pydata.org/pdeps/0004-consistent-to-datetime-parsing.html. You can safely remove this argument.\n",
      "  frames.append(pd.read_csv(path, parse_dates=[\"Date\"], infer_datetime_format=True))\n",
      "C:\\Users\\ADMIN\\AppData\\Local\\Temp\\ipykernel_16472\\3552996870.py:187: FutureWarning: The argument 'infer_datetime_format' is deprecated and will be removed in a future version. A strict version of it is now the default, see https://pandas.pydata.org/pdeps/0004-consistent-to-datetime-parsing.html. You can safely remove this argument.\n",
      "  frames.append(pd.read_csv(path, parse_dates=[\"Date\"], infer_datetime_format=True))\n",
      "C:\\Users\\ADMIN\\AppData\\Local\\Temp\\ipykernel_16472\\3552996870.py:187: FutureWarning: The argument 'infer_datetime_format' is deprecated and will be removed in a future version. A strict version of it is now the default, see https://pandas.pydata.org/pdeps/0004-consistent-to-datetime-parsing.html. You can safely remove this argument.\n",
      "  frames.append(pd.read_csv(path, parse_dates=[\"Date\"], infer_datetime_format=True))\n",
      "C:\\Users\\ADMIN\\AppData\\Local\\Temp\\ipykernel_16472\\3552996870.py:187: FutureWarning: The argument 'infer_datetime_format' is deprecated and will be removed in a future version. A strict version of it is now the default, see https://pandas.pydata.org/pdeps/0004-consistent-to-datetime-parsing.html. You can safely remove this argument.\n",
      "  frames.append(pd.read_csv(path, parse_dates=[\"Date\"], infer_datetime_format=True))\n",
      "C:\\Users\\ADMIN\\AppData\\Local\\Temp\\ipykernel_16472\\3552996870.py:187: FutureWarning: The argument 'infer_datetime_format' is deprecated and will be removed in a future version. A strict version of it is now the default, see https://pandas.pydata.org/pdeps/0004-consistent-to-datetime-parsing.html. You can safely remove this argument.\n",
      "  frames.append(pd.read_csv(path, parse_dates=[\"Date\"], infer_datetime_format=True))\n",
      "C:\\Users\\ADMIN\\AppData\\Local\\Temp\\ipykernel_16472\\3552996870.py:187: FutureWarning: The argument 'infer_datetime_format' is deprecated and will be removed in a future version. A strict version of it is now the default, see https://pandas.pydata.org/pdeps/0004-consistent-to-datetime-parsing.html. You can safely remove this argument.\n",
      "  frames.append(pd.read_csv(path, parse_dates=[\"Date\"], infer_datetime_format=True))\n",
      "C:\\Users\\ADMIN\\AppData\\Local\\Temp\\ipykernel_16472\\3552996870.py:187: FutureWarning: The argument 'infer_datetime_format' is deprecated and will be removed in a future version. A strict version of it is now the default, see https://pandas.pydata.org/pdeps/0004-consistent-to-datetime-parsing.html. You can safely remove this argument.\n",
      "  frames.append(pd.read_csv(path, parse_dates=[\"Date\"], infer_datetime_format=True))\n",
      "C:\\Users\\ADMIN\\AppData\\Local\\Temp\\ipykernel_16472\\3552996870.py:187: FutureWarning: The argument 'infer_datetime_format' is deprecated and will be removed in a future version. A strict version of it is now the default, see https://pandas.pydata.org/pdeps/0004-consistent-to-datetime-parsing.html. You can safely remove this argument.\n",
      "  frames.append(pd.read_csv(path, parse_dates=[\"Date\"], infer_datetime_format=True))\n"
     ]
    },
    {
     "name": "stdout",
     "output_type": "stream",
     "text": [
      "\n",
      "📦 合并完成：jp_tse_prices_combined_2015-10-01_to_2025-10-01.csv（37,156 行）\n",
      "\n",
      "—— 抓取结果 ——\n",
      "✅ 成功：16 | ❌ 失败：0\n"
     ]
    },
    {
     "name": "stderr",
     "output_type": "stream",
     "text": [
      "C:\\Users\\ADMIN\\AppData\\Local\\Temp\\ipykernel_16472\\3552996870.py:187: FutureWarning: The argument 'infer_datetime_format' is deprecated and will be removed in a future version. A strict version of it is now the default, see https://pandas.pydata.org/pdeps/0004-consistent-to-datetime-parsing.html. You can safely remove this argument.\n",
      "  frames.append(pd.read_csv(path, parse_dates=[\"Date\"], infer_datetime_format=True))\n",
      "C:\\Users\\ADMIN\\AppData\\Local\\Temp\\ipykernel_16472\\3552996870.py:187: FutureWarning: The argument 'infer_datetime_format' is deprecated and will be removed in a future version. A strict version of it is now the default, see https://pandas.pydata.org/pdeps/0004-consistent-to-datetime-parsing.html. You can safely remove this argument.\n",
      "  frames.append(pd.read_csv(path, parse_dates=[\"Date\"], infer_datetime_format=True))\n",
      "C:\\Users\\ADMIN\\AppData\\Local\\Temp\\ipykernel_16472\\3552996870.py:187: FutureWarning: The argument 'infer_datetime_format' is deprecated and will be removed in a future version. A strict version of it is now the default, see https://pandas.pydata.org/pdeps/0004-consistent-to-datetime-parsing.html. You can safely remove this argument.\n",
      "  frames.append(pd.read_csv(path, parse_dates=[\"Date\"], infer_datetime_format=True))\n",
      "C:\\Users\\ADMIN\\AppData\\Local\\Temp\\ipykernel_16472\\3552996870.py:187: FutureWarning: The argument 'infer_datetime_format' is deprecated and will be removed in a future version. A strict version of it is now the default, see https://pandas.pydata.org/pdeps/0004-consistent-to-datetime-parsing.html. You can safely remove this argument.\n",
      "  frames.append(pd.read_csv(path, parse_dates=[\"Date\"], infer_datetime_format=True))\n",
      "C:\\Users\\ADMIN\\AppData\\Local\\Temp\\ipykernel_16472\\3552996870.py:187: FutureWarning: The argument 'infer_datetime_format' is deprecated and will be removed in a future version. A strict version of it is now the default, see https://pandas.pydata.org/pdeps/0004-consistent-to-datetime-parsing.html. You can safely remove this argument.\n",
      "  frames.append(pd.read_csv(path, parse_dates=[\"Date\"], infer_datetime_format=True))\n"
     ]
    }
   ],
   "source": [
    "# ======================================================\n",
    "# 超稳版：TSE 日股数据抓取（Yahoo优先，Stooq兜底）\n",
    "# 严格单只串行 + 强等待 + 指数退避 + 断点续跑\n",
    "# ======================================================\n",
    "\n",
    "import os, time, random, math\n",
    "from datetime import datetime\n",
    "import pandas as pd\n",
    "import yfinance as yf\n",
    "\n",
    "# 备源\n",
    "try:\n",
    "    from pandas_datareader import data as pdr\n",
    "    HAVE_PDR = True\n",
    "except Exception:\n",
    "    HAVE_PDR = False\n",
    "\n",
    "# -------------------------\n",
    "# 输入\n",
    "# -------------------------\n",
    "companies = {\n",
    "    \"8927\": \"明豊エンタープライズ\",\n",
    "    \"8869\": \"明和地所\",\n",
    "    \"8871\": \"ゴールドクレスト\",\n",
    "    \"8877\": \"エスリード\",\n",
    "    \"3489\": \"フェイスネットワーク\",\n",
    "    \"146A\": \"コロンビア・ワークス\",         # 非4位数字 -> 跳过\n",
    "    \"3236\": \"プロパスト\",\n",
    "    \"3242\": \"アーバネットコーポレーション\",\n",
    "    \"3238\": \"セントラル総合開発\",\n",
    "    \"3245\": \"ディア・ライフ\",\n",
    "    \"3246\": \"コーセーアールイー\",\n",
    "    \"3486\": \"グローバル・リンク・マネジメント\",\n",
    "    \"3498\": \"霞ヶ関キャピタル\",\n",
    "    \"391A\": \"山忠\",                       # 非4位数字 -> 跳过\n",
    "    \"8844\": \"コスモスイニシア\",\n",
    "    \"8881\": \"日神グループホールディングス\",\n",
    "    \"8887\": \"シーラホールディングス\",\n",
    "    \"8892\": \"日本エスコン\"\n",
    "}\n",
    "start_date = \"2015-10-01\"\n",
    "end_date   = \"2025-10-01\"\n",
    "\n",
    "# -------------------------\n",
    "# 参数（可按需调大/调小）\n",
    "# -------------------------\n",
    "YF_MAX_RETRIES   = 7          # yfinance 最大重试\n",
    "BASE_SLEEP       = 2.5        # 指数退避基准秒\n",
    "BETWEEN_TICKERS  = (12, 20)   # 每只之间的强制等待区间（秒）\n",
    "AUTO_ADJUST      = True       # True=复权价，False=原始价\n",
    "OUT_DIR          = \"data\"\n",
    "os.makedirs(OUT_DIR, exist_ok=True)\n",
    "\n",
    "# -------------------------\n",
    "# 辅助函数\n",
    "# -------------------------\n",
    "def human_sleep(seconds: float):\n",
    "    seconds = max(0.5, float(seconds))\n",
    "    time.sleep(seconds)\n",
    "\n",
    "def sleep_between_tickers():\n",
    "    wait = random.uniform(*BETWEEN_TICKERS)\n",
    "    print(f\"⏳ 等待 {wait:.1f}s 再抓下一只…\")\n",
    "    human_sleep(wait)\n",
    "\n",
    "def save_one_df(df: pd.DataFrame, code: str, name: str, source: str):\n",
    "    if df is None or df.empty:\n",
    "        return False\n",
    "    df = df.copy()\n",
    "    df[\"Code\"] = code\n",
    "    df[\"Company\"] = name\n",
    "    df[\"Source\"] = source\n",
    "    # 统一列名\n",
    "    df.columns = [c.title() if isinstance(c, str) else c for c in df.columns]\n",
    "    # 落地单文件\n",
    "    fn = os.path.join(OUT_DIR, f\"{code}_{source}_{start_date}_to_{end_date}.csv\")\n",
    "    df.to_csv(fn, encoding=\"utf-8-sig\")\n",
    "    print(f\"✅ [{code}] {name} -> 已保存单只数据：{fn}（{len(df):,} 行）\")\n",
    "    return True\n",
    "\n",
    "def fetch_yahoo(code: str):\n",
    "    \"\"\"用 yfinance 串行抓取单只，指数退避重试\"\"\"\n",
    "    tk = f\"{code}.T\"\n",
    "    attempt = 0\n",
    "    while attempt < YF_MAX_RETRIES:\n",
    "        try:\n",
    "            print(f\"  • Yahoo 抓取 {tk}（尝试 {attempt+1}/{YF_MAX_RETRIES}）\")\n",
    "            df = yf.download(\n",
    "                tickers=[tk],\n",
    "                start=start_date,\n",
    "                end=end_date,\n",
    "                auto_adjust=AUTO_ADJUST,\n",
    "                group_by=\"ticker\",\n",
    "                threads=False,\n",
    "                progress=False,\n",
    "                interval=\"1d\",\n",
    "            )\n",
    "            # yfinance 单只时可能返回普通列或多重列\n",
    "            if df is None or df.empty:\n",
    "                raise RuntimeError(\"empty dataframe\")\n",
    "            if isinstance(df.columns, pd.MultiIndex):\n",
    "                if tk in df.columns.get_level_values(0):\n",
    "                    df = df[tk].copy()\n",
    "                else:\n",
    "                    # 多重列但不含目标 -> 视作失败\n",
    "                    raise RuntimeError(\"missing ticker in returned columns\")\n",
    "            return df\n",
    "        except Exception as e:\n",
    "            msg = str(e)\n",
    "            # 粗判限流/网络\n",
    "            if any(k in msg for k in [\"Too Many Requests\", \"Rate\", \"429\", \"timed out\"]):\n",
    "                sleep_s = BASE_SLEEP * (2 ** attempt) + random.uniform(0, 1.5)\n",
    "                print(f\"    ⚠️ 限流/网络问题：{msg} -> {sleep_s:.1f}s 后重试\")\n",
    "                human_sleep(sleep_s)\n",
    "                attempt += 1\n",
    "            else:\n",
    "                print(f\"    ❌ 非限流错误：{msg}\")\n",
    "                break\n",
    "    return None\n",
    "\n",
    "def fetch_stooq(code: str):\n",
    "    \"\"\"用 Stooq 兜底（覆盖有限）—— 代码形如 8927.jp\"\"\"\n",
    "    if not HAVE_PDR:\n",
    "        return None\n",
    "    sym = f\"{code}.jp\"\n",
    "    try:\n",
    "        print(f\"  • Stooq 兜底 {sym}\")\n",
    "        df = pdr.DataReader(sym, \"stooq\", start=start_date, end=end_date)\n",
    "        # Stooq 列名是 Open/High/Low/Close/Volume 等（倒序或正序）\n",
    "        if df is None or df.empty:\n",
    "            return None\n",
    "        # 统一按日期升序\n",
    "        df = df.sort_index()\n",
    "        return df\n",
    "    except Exception as e:\n",
    "        print(f\"    ❌ Stooq 失败：{e}\")\n",
    "        return None\n",
    "\n",
    "# -------------------------\n",
    "# 主流程：严格单只串行\n",
    "# -------------------------\n",
    "numeric = {c: n for c, n in companies.items() if c.isdigit() and len(c) == 4}\n",
    "skipped = {c: n for c, n in companies.items() if c not in numeric}\n",
    "\n",
    "if skipped:\n",
    "    print(\"⏭️ 已跳过（非4位数字）：\")\n",
    "    for c, n in skipped.items():\n",
    "        print(f\"  - {c}: {n}\")\n",
    "\n",
    "success_codes = []\n",
    "fail_codes    = []\n",
    "\n",
    "for code, name in numeric.items():\n",
    "    print(f\"\\n==============================\")\n",
    "    print(f\"▶︎ 抓取 {code} — {name}\")\n",
    "    # 如果该代码已有成功落地文件，跳过（断点续跑）\n",
    "    already = [f for f in os.listdir(OUT_DIR) if f.startswith(f\"{code}_\") and f.endswith(\".csv\")]\n",
    "    if already:\n",
    "        print(f\"  🔁 检测到已有文件，跳过抓取：{already[0]}\")\n",
    "        success_codes.append(code)\n",
    "        continue\n",
    "\n",
    "    df = fetch_yahoo(code)\n",
    "    if df is not None and save_one_df(df, code, name, \"yahoo\"):\n",
    "        success_codes.append(code)\n",
    "        sleep_between_tickers()\n",
    "        continue\n",
    "\n",
    "    # Yahoo 失败 -> 尝试 Stooq\n",
    "    df2 = fetch_stooq(code)\n",
    "    if df2 is not None and save_one_df(df2, code, name, \"stooq\"):\n",
    "        success_codes.append(code)\n",
    "        sleep_between_tickers()\n",
    "        continue\n",
    "\n",
    "    print(f\"  ❗最终失败：{code} {name}\")\n",
    "    fail_codes.append(code)\n",
    "    sleep_between_tickers()\n",
    "\n",
    "# -------------------------\n",
    "# 汇总合并（把 data/ 下的单只CSV 合为一份）\n",
    "# -------------------------\n",
    "all_paths = [os.path.join(OUT_DIR, f) for f in os.listdir(OUT_DIR) if f.endswith(\".csv\")]\n",
    "frames = []\n",
    "for path in all_paths:\n",
    "    try:\n",
    "        frames.append(pd.read_csv(path, parse_dates=[\"Date\"], infer_datetime_format=True))\n",
    "    except Exception:\n",
    "        # Stooq 文件可能列名是 'Date' 或 'Date' 已在索引；上面的 to_csv 保证有 Date 列\n",
    "        frames.append(pd.read_csv(path))\n",
    "\n",
    "if frames:\n",
    "    combined = pd.concat(frames, ignore_index=True)\n",
    "    # 规范列顺序\n",
    "    front = [c for c in [\"Company\", \"Code\", \"Source\"] if c in combined.columns]\n",
    "    rest  = [c for c in combined.columns if c not in front]\n",
    "    combined = combined[front + rest]\n",
    "    out_all = f\"jp_tse_prices_combined_{start_date}_to_{end_date}.csv\"\n",
    "    combined.sort_values([\"Code\",\"Date\"], inplace=True, ignore_index=True)\n",
    "    combined.to_csv(out_all, encoding=\"utf-8-sig\", index=False)\n",
    "    print(f\"\\n📦 合并完成：{out_all}（{len(combined):,} 行）\")\n",
    "else:\n",
    "    print(\"\\n⚠️ 没有任何成功文件可合并。\")\n",
    "\n",
    "print(\"\\n—— 抓取结果 ——\")\n",
    "print(f\"✅ 成功：{len(success_codes)} | ❌ 失败：{len(fail_codes)}\")\n",
    "if fail_codes:\n",
    "    print(\"失败代码：\", \", \".join(fail_codes))\n"
   ]
  },
  {
   "cell_type": "markdown",
   "id": "934ee37b-809a-4fc9-92ff-092f12294673",
   "metadata": {},
   "source": [
    "# The stock including Alphabet may not be catched perfectedly, so try the following code and get the stock information."
   ]
  },
  {
   "cell_type": "code",
   "execution_count": 9,
   "id": "2709b9c2-493d-486d-8005-748b8bce7b47",
   "metadata": {},
   "outputs": [
    {
     "name": "stdout",
     "output_type": "stream",
     "text": [
      "✅ 146A コロンビア・ワークス 数据行数: 371\n"
     ]
    },
    {
     "data": {
      "text/html": [
       "<div>\n",
       "<style scoped>\n",
       "    .dataframe tbody tr th:only-of-type {\n",
       "        vertical-align: middle;\n",
       "    }\n",
       "\n",
       "    .dataframe tbody tr th {\n",
       "        vertical-align: top;\n",
       "    }\n",
       "\n",
       "    .dataframe thead th {\n",
       "        text-align: right;\n",
       "    }\n",
       "</style>\n",
       "<table border=\"1\" class=\"dataframe\">\n",
       "  <thead>\n",
       "    <tr style=\"text-align: right;\">\n",
       "      <th></th>\n",
       "      <th>Open</th>\n",
       "      <th>High</th>\n",
       "      <th>Low</th>\n",
       "      <th>Close</th>\n",
       "      <th>Volume</th>\n",
       "    </tr>\n",
       "    <tr>\n",
       "      <th>Date</th>\n",
       "      <th></th>\n",
       "      <th></th>\n",
       "      <th></th>\n",
       "      <th></th>\n",
       "      <th></th>\n",
       "    </tr>\n",
       "  </thead>\n",
       "  <tbody>\n",
       "    <tr>\n",
       "      <th>2024-03-28</th>\n",
       "      <td>1792.17</td>\n",
       "      <td>2022.56</td>\n",
       "      <td>1704.86</td>\n",
       "      <td>1806.72</td>\n",
       "      <td>4914169.0</td>\n",
       "    </tr>\n",
       "    <tr>\n",
       "      <th>2024-03-29</th>\n",
       "      <td>1906.15</td>\n",
       "      <td>2138.96</td>\n",
       "      <td>1857.65</td>\n",
       "      <td>2078.34</td>\n",
       "      <td>4042875.0</td>\n",
       "    </tr>\n",
       "    <tr>\n",
       "      <th>2024-04-01</th>\n",
       "      <td>2214.14</td>\n",
       "      <td>2417.86</td>\n",
       "      <td>2214.14</td>\n",
       "      <td>2342.68</td>\n",
       "      <td>2801499.0</td>\n",
       "    </tr>\n",
       "    <tr>\n",
       "      <th>2024-04-02</th>\n",
       "      <td>2371.78</td>\n",
       "      <td>2415.43</td>\n",
       "      <td>2109.86</td>\n",
       "      <td>2134.11</td>\n",
       "      <td>1720319.0</td>\n",
       "    </tr>\n",
       "    <tr>\n",
       "      <th>2024-04-03</th>\n",
       "      <td>2131.69</td>\n",
       "      <td>2294.18</td>\n",
       "      <td>1957.08</td>\n",
       "      <td>2073.48</td>\n",
       "      <td>2108134.0</td>\n",
       "    </tr>\n",
       "  </tbody>\n",
       "</table>\n",
       "</div>"
      ],
      "text/plain": [
       "               Open     High      Low    Close     Volume\n",
       "Date                                                     \n",
       "2024-03-28  1792.17  2022.56  1704.86  1806.72  4914169.0\n",
       "2024-03-29  1906.15  2138.96  1857.65  2078.34  4042875.0\n",
       "2024-04-01  2214.14  2417.86  2214.14  2342.68  2801499.0\n",
       "2024-04-02  2371.78  2415.43  2109.86  2134.11  1720319.0\n",
       "2024-04-03  2131.69  2294.18  1957.08  2073.48  2108134.0"
      ]
     },
     "metadata": {},
     "output_type": "display_data"
    },
    {
     "name": "stdout",
     "output_type": "stream",
     "text": [
      "✅ 391A 山忠 数据行数: 0\n"
     ]
    },
    {
     "data": {
      "text/html": [
       "<div>\n",
       "<style scoped>\n",
       "    .dataframe tbody tr th:only-of-type {\n",
       "        vertical-align: middle;\n",
       "    }\n",
       "\n",
       "    .dataframe tbody tr th {\n",
       "        vertical-align: top;\n",
       "    }\n",
       "\n",
       "    .dataframe thead th {\n",
       "        text-align: right;\n",
       "    }\n",
       "</style>\n",
       "<table border=\"1\" class=\"dataframe\">\n",
       "  <thead>\n",
       "    <tr style=\"text-align: right;\">\n",
       "      <th></th>\n",
       "    </tr>\n",
       "    <tr>\n",
       "      <th>No data</th>\n",
       "    </tr>\n",
       "  </thead>\n",
       "  <tbody>\n",
       "  </tbody>\n",
       "</table>\n",
       "</div>"
      ],
      "text/plain": [
       "Empty DataFrame\n",
       "Columns: []\n",
       "Index: []"
      ]
     },
     "metadata": {},
     "output_type": "display_data"
    }
   ],
   "source": [
    "import pandas_datareader.data as web\n",
    "import datetime\n",
    "\n",
    "start = datetime.date(2015, 10, 1)\n",
    "end   = datetime.date(2025, 10, 1)\n",
    "\n",
    "for code, name in [(\"146A\", \"コロンビア・ワークス\"), (\"391A\", \"山忠\")]:\n",
    "    symbol = f\"{code}.jp\"\n",
    "    try:\n",
    "        df = web.DataReader(symbol, \"stooq\", start, end)\n",
    "        df = df.sort_index()\n",
    "        print(f\"✅ {code} {name} 数据行数: {len(df)}\")\n",
    "        display(df.head())\n",
    "        df.to_csv(f\"{code}_stooq.csv\", encoding=\"utf-8-sig\")\n",
    "    except Exception as e:\n",
    "        print(f\"❌ {code} {name} 获取失败: {e}\")\n"
   ]
  },
  {
   "cell_type": "markdown",
   "id": "a2643345-8784-49a1-8ad7-f806e55fb7b1",
   "metadata": {},
   "source": [
    "# Combined all the csv files into 1 csv"
   ]
  },
  {
   "cell_type": "code",
   "execution_count": 17,
   "id": "b82cc09b-056f-4e94-b324-0c872f94509f",
   "metadata": {},
   "outputs": [
    {
     "name": "stdout",
     "output_type": "stream",
     "text": [
      "✅ 已选择 17 个文件：\n",
      " - D:/jupyter/Job/Restar/開発計画/XU/data/146A_stooq_2015-10-01_to_2025-10-01.csv\n",
      " - D:/jupyter/Job/Restar/開発計画/XU/data/3236_stooq_2015-10-01_to_2025-10-01.csv\n",
      " - D:/jupyter/Job/Restar/開発計画/XU/data/3238_stooq_2015-10-01_to_2025-10-01.csv\n",
      " - D:/jupyter/Job/Restar/開発計画/XU/data/3242_stooq_2015-10-01_to_2025-10-01.csv\n",
      " - D:/jupyter/Job/Restar/開発計画/XU/data/3245_stooq_2015-10-01_to_2025-10-01.csv\n",
      " - D:/jupyter/Job/Restar/開発計画/XU/data/3246_stooq_2015-10-01_to_2025-10-01.csv\n",
      " - D:/jupyter/Job/Restar/開発計画/XU/data/3486_stooq_2015-10-01_to_2025-10-01.csv\n",
      " - D:/jupyter/Job/Restar/開発計画/XU/data/3489_stooq_2015-10-01_to_2025-10-01.csv\n",
      " - D:/jupyter/Job/Restar/開発計画/XU/data/3498_stooq_2015-10-01_to_2025-10-01.csv\n",
      " - D:/jupyter/Job/Restar/開発計画/XU/data/8844_stooq_2015-10-01_to_2025-10-01.csv\n",
      " - D:/jupyter/Job/Restar/開発計画/XU/data/8869_stooq_2015-10-01_to_2025-10-01.csv\n",
      " - D:/jupyter/Job/Restar/開発計画/XU/data/8871_stooq_2015-10-01_to_2025-10-01.csv\n",
      " - D:/jupyter/Job/Restar/開発計画/XU/data/8877_stooq_2015-10-01_to_2025-10-01.csv\n",
      " - D:/jupyter/Job/Restar/開発計画/XU/data/8881_stooq_2015-10-01_to_2025-10-01.csv\n",
      " - D:/jupyter/Job/Restar/開発計画/XU/data/8887_stooq_2015-10-01_to_2025-10-01.csv\n",
      " - D:/jupyter/Job/Restar/開発計画/XU/data/8892_stooq_2015-10-01_to_2025-10-01.csv\n",
      " - D:/jupyter/Job/Restar/開発計画/XU/data/8927_stooq_2015-10-01_to_2025-10-01.csv\n",
      "\n",
      "💾 已保存为 combined_stocks.csv，共 37,527 行。\n"
     ]
    }
   ],
   "source": [
    "import pandas as pd\n",
    "import tkinter as tk\n",
    "from tkinter import filedialog\n",
    "\n",
    "# 打开文件选择窗口\n",
    "root = tk.Tk()\n",
    "root.withdraw()  # 不显示主窗口\n",
    "files = filedialog.askopenfilenames(\n",
    "    title=\"选择要合并的CSV文件\",\n",
    "    filetypes=[(\"CSV Files\", \"*.csv\"), (\"All Files\", \"*.*\")]\n",
    ")\n",
    "\n",
    "if not files:\n",
    "    print(\"❌ 没有选择任何文件。\")\n",
    "else:\n",
    "    print(f\"✅ 已选择 {len(files)} 个文件：\")\n",
    "    for f in files:\n",
    "        print(\" -\", f)\n",
    "\n",
    "    # 读取并合并\n",
    "    dfs = [pd.read_csv(f, encoding=\"utf-8-sig\") for f in files]\n",
    "    combined = pd.concat(dfs, ignore_index=True)\n",
    "\n",
    "    # 去重（如果有 Code + Date 列）\n",
    "    if {\"Code\", \"Date\"}.issubset(combined.columns):\n",
    "        combined = combined.sort_values([\"Code\", \"Date\"]).drop_duplicates([\"Code\", \"Date\"])\n",
    "\n",
    "    # 保存\n",
    "    combined.to_csv(\"combined_stocks.csv\", index=False, encoding=\"utf-8-sig\")\n",
    "    print(f\"\\n💾 已保存为 combined_stocks.csv，共 {len(combined):,} 行。\")\n"
   ]
  },
  {
   "cell_type": "code",
   "execution_count": null,
   "id": "f9d07b1d-aa6f-4952-be01-29852943cb75",
   "metadata": {},
   "outputs": [],
   "source": []
  },
  {
   "cell_type": "code",
   "execution_count": null,
   "id": "613c45b9-1a98-49bc-802d-c4146ba440a9",
   "metadata": {},
   "outputs": [],
   "source": []
  },
  {
   "cell_type": "code",
   "execution_count": null,
   "id": "3de7b6ae-ad07-4edb-83b4-6e6000a45635",
   "metadata": {},
   "outputs": [],
   "source": []
  }
 ],
 "metadata": {
  "kernelspec": {
   "display_name": "Python 3 (ipykernel)",
   "language": "python",
   "name": "python3"
  },
  "language_info": {
   "codemirror_mode": {
    "name": "ipython",
    "version": 3
   },
   "file_extension": ".py",
   "mimetype": "text/x-python",
   "name": "python",
   "nbconvert_exporter": "python",
   "pygments_lexer": "ipython3",
   "version": "3.13.2"
  }
 },
 "nbformat": 4,
 "nbformat_minor": 5
}
